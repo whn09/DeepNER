{
 "cells": [
  {
   "cell_type": "code",
   "execution_count": 1,
   "id": "5d8a80e8",
   "metadata": {},
   "outputs": [],
   "source": [
    "import json"
   ]
  },
  {
   "cell_type": "code",
   "execution_count": 2,
   "id": "af5a708a",
   "metadata": {},
   "outputs": [],
   "source": [
    "train = json.load(open('data/raw_data/train.json'))\n",
    "dev = json.load(open('data/raw_data/dev.json'))\n",
    "test = json.load(open('data/raw_data/test.json'))"
   ]
  },
  {
   "cell_type": "code",
   "execution_count": 4,
   "id": "c8da4ee7",
   "metadata": {},
   "outputs": [
    {
     "data": {
      "text/plain": [
       "(850, 150, 500)"
      ]
     },
     "execution_count": 4,
     "metadata": {},
     "output_type": "execute_result"
    }
   ],
   "source": [
    "len(train), len(dev), len(test)"
   ]
  },
  {
   "cell_type": "code",
   "execution_count": 36,
   "id": "778552f1",
   "metadata": {},
   "outputs": [],
   "source": [
    "def json_to_txt(data):\n",
    "    result = []\n",
    "    names = {}\n",
    "    for datai in data:\n",
    "        text = datai['text']\n",
    "        resulti = [[text[i], 'O'] for i in range(len(text))]\n",
    "        labels = datai['labels']\n",
    "        for label in labels:\n",
    "            name = label[1]\n",
    "            if name not in names:\n",
    "                names[name] = 0\n",
    "            names[name] += 1\n",
    "            start = label[2]\n",
    "            end = label[3]\n",
    "            texti = label[4]\n",
    "            start_end = text[start:end]\n",
    "#             print(start_end, texti)\n",
    "            resulti[start][1] = 'B-'+name\n",
    "            for j in range(start+1, end):\n",
    "                resulti[j][1] = 'I-'+name\n",
    "        resulti.append(['', ''])\n",
    "        result = result+resulti\n",
    "    print(len(names), names)\n",
    "    print(names.keys())\n",
    "    return result"
   ]
  },
  {
   "cell_type": "code",
   "execution_count": 44,
   "id": "8f312132",
   "metadata": {},
   "outputs": [],
   "source": [
    "def write_to_file(data, filename):\n",
    "    with open(filename, 'w') as fout:\n",
    "        for datai in data:\n",
    "            if datai[0].strip() == '' and datai[1].strip() != '':\n",
    "                continue\n",
    "            else:\n",
    "                fout.write(' '.join(datai)+'\\n')"
   ]
  },
  {
   "cell_type": "code",
   "execution_count": 45,
   "id": "f44a4fbf",
   "metadata": {},
   "outputs": [
    {
     "name": "stdout",
     "output_type": "stream",
     "text": [
      "13 {'DRUG_DOSAGE': 886, 'DRUG_TASTE': 969, 'SYMPTOM': 5186, 'PERSON_GROUP': 1456, 'FOOD_GROUP': 543, 'DRUG_EFFICACY': 2746, 'SYNDROME': 1023, 'DISEASE_GROUP': 523, 'DISEASE': 943, 'DRUG_GROUP': 9, 'DRUG_INGREDIENT': 639, 'FOOD': 65, 'DRUG': 141}\n",
      "dict_keys(['DRUG_DOSAGE', 'DRUG_TASTE', 'SYMPTOM', 'PERSON_GROUP', 'FOOD_GROUP', 'DRUG_EFFICACY', 'SYNDROME', 'DISEASE_GROUP', 'DISEASE', 'DRUG_GROUP', 'DRUG_INGREDIENT', 'FOOD', 'DRUG'])\n"
     ]
    }
   ],
   "source": [
    "train_result = json_to_txt(train)"
   ]
  },
  {
   "cell_type": "code",
   "execution_count": 46,
   "id": "9110feb5",
   "metadata": {},
   "outputs": [
    {
     "data": {
      "text/plain": [
       "299715"
      ]
     },
     "execution_count": 46,
     "metadata": {},
     "output_type": "execute_result"
    }
   ],
   "source": [
    "len(train_result)"
   ]
  },
  {
   "cell_type": "code",
   "execution_count": 47,
   "id": "4c69257a",
   "metadata": {},
   "outputs": [],
   "source": [
    "write_to_file(train_result, 'train.txt')"
   ]
  },
  {
   "cell_type": "code",
   "execution_count": 48,
   "id": "ebdb1093",
   "metadata": {},
   "outputs": [
    {
     "name": "stdout",
     "output_type": "stream",
     "text": [
      "13 {'DRUG_DOSAGE': 130, 'DRUG_TASTE': 164, 'SYMPTOM': 904, 'DRUG_EFFICACY': 511, 'DRUG': 15, 'PERSON_GROUP': 262, 'SYNDROME': 183, 'DRUG_INGREDIENT': 89, 'FOOD_GROUP': 98, 'FOOD': 6, 'DISEASE': 161, 'DISEASE_GROUP': 100, 'DRUG_GROUP': 5}\n",
      "dict_keys(['DRUG_DOSAGE', 'DRUG_TASTE', 'SYMPTOM', 'DRUG_EFFICACY', 'DRUG', 'PERSON_GROUP', 'SYNDROME', 'DRUG_INGREDIENT', 'FOOD_GROUP', 'FOOD', 'DISEASE', 'DISEASE_GROUP', 'DRUG_GROUP'])\n"
     ]
    }
   ],
   "source": [
    "dev_result = json_to_txt(dev)"
   ]
  },
  {
   "cell_type": "code",
   "execution_count": 49,
   "id": "9516ed66",
   "metadata": {},
   "outputs": [
    {
     "data": {
      "text/plain": [
       "51842"
      ]
     },
     "execution_count": 49,
     "metadata": {},
     "output_type": "execute_result"
    }
   ],
   "source": [
    "len(dev_result)"
   ]
  },
  {
   "cell_type": "code",
   "execution_count": 50,
   "id": "57beb802",
   "metadata": {},
   "outputs": [],
   "source": [
    "write_to_file(dev_result, 'dev.txt')"
   ]
  },
  {
   "cell_type": "code",
   "execution_count": null,
   "id": "6ff74eec",
   "metadata": {},
   "outputs": [],
   "source": []
  }
 ],
 "metadata": {
  "kernelspec": {
   "display_name": "conda_python3",
   "language": "python",
   "name": "conda_python3"
  },
  "language_info": {
   "codemirror_mode": {
    "name": "ipython",
    "version": 3
   },
   "file_extension": ".py",
   "mimetype": "text/x-python",
   "name": "python",
   "nbconvert_exporter": "python",
   "pygments_lexer": "ipython3",
   "version": "3.6.13"
  }
 },
 "nbformat": 4,
 "nbformat_minor": 5
}
